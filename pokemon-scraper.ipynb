{
 "cells": [
  {
   "cell_type": "markdown",
   "metadata": {},
   "source": [
    "# Pokemon Scraping"
   ]
  },
  {
   "cell_type": "markdown",
   "metadata": {},
   "source": [
    "# Setup"
   ]
  },
  {
   "cell_type": "code",
   "execution_count": 1,
   "metadata": {},
   "outputs": [],
   "source": [
    "import requests\n",
    "import pandas as pd\n",
    "import numpy as np\n",
    "from bs4 import BeautifulSoup\n",
    "from copy import copy"
   ]
  },
  {
   "cell_type": "code",
   "execution_count": 2,
   "metadata": {},
   "outputs": [],
   "source": [
    "def url_to_soup(url) -> BeautifulSoup:\n",
    "    html = requests.get(url)\n",
    "    \n",
    "    if html.status_code != 200:\n",
    "        raise('Request Error')\n",
    "    \n",
    "    return BeautifulSoup(html.text, 'lxml')"
   ]
  },
  {
   "cell_type": "code",
   "execution_count": 3,
   "metadata": {},
   "outputs": [],
   "source": [
    "# This section is used to filter part of the data for debugging\n",
    "VERBOSE = True\n",
    "CSV_FILE_OUTPUT = 'pokemons.csv'\n",
    "\n",
    "GENERATION_FIRST = 1\n",
    "GENERATION_LAST  = 9\n",
    "\n",
    "# Scripe every single pokemon page\n",
    "SCRIPE_POKEMON_PAGE = True\n",
    "SCRIPE_LEGENDARY_PAGE = True\n",
    "SCRIPE_EVOLUTIONS = True\n",
    "SCRIPE_RESISTANCES = False\n",
    "\n",
    "# By default, legendaries are categorized as legendary, sublegendary or mythical\n",
    "# Setting this to true will them all as 'legendaries'\n",
    "COMBINE_ALL_LEGENDARIES = True\n",
    "\n",
    "# We scripe the type list instead of a static declaration so that it\n",
    "# doesn't break if pokemondb.net changes its column order\n",
    "TYPE_LIST = []\n",
    "pokemon_data = url_to_soup('https://pokemondb.net/pokedex/bulbasaur')\n",
    "for type_table in pokemon_data.find_all('table', class_='type-table'):\n",
    "    for type in type_table.find_all('th'):\n",
    "        TYPE_LIST.append(type.a.get('title').lower())\n",
    "        \n",
    "TYPE_NUMBERS = len(TYPE_LIST)"
   ]
  },
  {
   "cell_type": "markdown",
   "metadata": {},
   "source": [
    "# Scraping"
   ]
  },
  {
   "cell_type": "markdown",
   "metadata": {},
   "source": [
    "## Single Page Pokemon"
   ]
  },
  {
   "cell_type": "markdown",
   "metadata": {},
   "source": [
    "### About type resistances"
   ]
  },
  {
   "cell_type": "markdown",
   "metadata": {},
   "source": [
    "At first I wanted to scrape the resistances from the pokemon page, however I realized that the resistances already compile the effect of the pokemon types and it's ability., which can be problematic.\n",
    "\n",
    "In my project, I thus decided to recalculate the resistances based solely on the pokemon typing, as integrating the ability effects is beyond the scope of my analysis. However I left this in the script if people have a use for it.\n",
    "\n",
    "#### Explaining the problem with scraping resistances\n",
    "In some cases, if a pokemon can have different abilities, so it is possible to filter it out by taking the maximum for each resistance with the function `max_resistances`\n",
    "\n",
    "Example for Koffing\n",
    "\n",
    "![Resistances of Koffing with Levitate](images/koffing-resistances-levitate.png)\n",
    "\n",
    "![Resistances of Koffing with Neutralizing Gas](images/koffing-resistances-neutralizing-gas.png)\n",
    "\n",
    "In this example, the function would select *against_ground* = 2, effectively ignoring the *levitate* ability.\n",
    "\n",
    "![Resistances of Haunter](images/haunter-resistances.png)\n",
    "\n",
    "However, some pokemon only have one ability, which affects its resistances. It is for example the case with **Haunter**, which can only have the *levitate* ability.\n",
    "\n"
   ]
  },
  {
   "cell_type": "code",
   "execution_count": 4,
   "metadata": {},
   "outputs": [],
   "source": [
    "def max_resistances(resistances: list[float]) -> list[float]:\n",
    "    \"\"\"\n",
    "    Returns the highest set of resistances present on a page.\n",
    "    This is used to ignore abilities that give extra resistances\n",
    "\n",
    "    Args:\n",
    "        resistances (list[float]): list of all the resistances, the length should be n*TYPE_NUMBERS\n",
    "\n",
    "    Returns:\n",
    "        list[float]: list TYPE_NUMBERS resistances\n",
    "    \"\"\"\n",
    "    # If there's one list we return it\n",
    "    if len(resistances) == TYPE_NUMBERS:\n",
    "        return resistances\n",
    "    \n",
    "    # Otherwise we return the maximum, recursively\n",
    "    resistances1 = resistances[:TYPE_NUMBERS]\n",
    "    resistances2 = max_resistances(resistances[TYPE_NUMBERS:])\n",
    "    \n",
    "    return [max(a,b) for a,b in zip(resistances1,resistances2)]"
   ]
  },
  {
   "cell_type": "code",
   "execution_count": 5,
   "metadata": {},
   "outputs": [],
   "source": [
    "def get_resistances(soup):\n",
    "    type_resistances = []\n",
    "    for type_table in soup.find_all('table', class_='type-table'):\n",
    "        for strength_weakness in type_table.find_all('td'):\n",
    "            strength_weakness_value = {\n",
    "                '0': 0.0,\n",
    "                '¼': 0.25,\n",
    "                '½': 0.5,\n",
    "                '2': 2.0,\n",
    "                '4': 4.0,\n",
    "            }.get(strength_weakness.text.strip(), 1.0)\n",
    "            type_resistances.append(strength_weakness_value)\n",
    "            \n",
    "    return max_resistances(type_resistances)"
   ]
  },
  {
   "cell_type": "markdown",
   "metadata": {},
   "source": [
    "### Scraping"
   ]
  },
  {
   "cell_type": "code",
   "execution_count": null,
   "metadata": {},
   "outputs": [],
   "source": [
    "def scrape_single_pokemon(name: str, id: int=0, form: str=None) -> list:\n",
    "    pokemon = {}\n",
    "    \n",
    "    if id != 0:\n",
    "        pokemon_url = f'https://pokemondb.net/pokedex/{id}'\n",
    "    else:\n",
    "        pokemon_url = f'https://pokemondb.net/pokedex/{name}'\n",
    "    \n",
    "    pokemon_data = url_to_soup(pokemon_url)\n",
    "    \n",
    "    all_pokemon_forms = pokemon_data.find_all('div', class_='sv-tabs-panel')\n",
    "    \n",
    "    # Selects the right tab based on the form studied\n",
    "    tab_labels = pokemon_data.find('div', class_='sv-tabs-tab-list').find_all('a', class_='sv-tabs-tab', recursive=False)\n",
    "    index = 0\n",
    "    for i, label in enumerate(tab_labels):\n",
    "        if label.get_text(strip=True) == form:\n",
    "            index = i\n",
    "                \n",
    "    current_form = all_pokemon_forms[index]\n",
    "    \n",
    "    data = current_form.find_all('table', class_='vitals-table')\n",
    "    \n",
    "    vitals = data[0].find_all('td')\n",
    "    abilities = vitals[5].find_all('span')\n",
    "    pokemon['species']      = vitals[2].get_text(strip=True)\n",
    "    pokemon['height_m']     = vitals[3].get_text(strip=True).replace('\\xa0', ' ').partition(' m')[0]\n",
    "    pokemon['weight_kg']    = vitals[4].get_text(strip=True).replace('\\xa0', ' ').partition(' kg')[0]\n",
    "    pokemon['ability_0']    = abilities[0].a.get_text(strip=True)\n",
    "    pokemon['ability_1']    = abilities[0].a.get_text(strip=True) if len(abilities) > 1 else np.nan\n",
    "    if vitals[5].find('small') is not None:\n",
    "        pokemon['ability_hidden'] = vitals[5].find('small').get_text(strip=True).replace('(hidden ability)', '')\n",
    "        \n",
    "    training = data[1].find_all('td')\n",
    "    pokemon['ev_yield']     = training[0].get_text(strip=True)\n",
    "    pokemon['catch_rate']   = training[1].get_text(strip=True).partition('(')[0]\n",
    "    pokemon['growth_rate']  = training[4].get_text(strip=True)\n",
    "    \n",
    "    breeding = data[2].find_all('td')\n",
    "    pokemon['egg_groups'] = breeding[0].get_text(strip=True)\n",
    "    if breeding[1].get_text(strip=True) != 'Genderless':\n",
    "        male, female = breeding[1].find_all('span')\n",
    "        pokemon['male_percent']   = float(male.get_text(strip=True).partition('%')[0])\n",
    "        pokemon['female_percent'] = float(female.get_text(strip=True).partition('%')[0])\n",
    "    else:\n",
    "        pokemon['male_percent']   = np.nan\n",
    "        pokemon['female_percent'] = np.nan\n",
    "    if breeding[2].get_text(strip=True) != '—':\n",
    "        pokemon['egg_cycles'] = int(breeding[2].get_text(strip=True).partition('(')[0])\n",
    "        pokemon['egg_steps']  = pokemon['egg_cycles'] * 257\n",
    "    else:\n",
    "        pokemon['egg_cycles'] = np.nan\n",
    "        pokemon['egg_steps']  = np.nan\n",
    "    \n",
    "    if SCRIPE_RESISTANCES:\n",
    "        for type, resistance in zip(TYPE_LIST, get_resistances(current_form)):\n",
    "            pokemon['against_'+type] = resistance\n",
    "    \n",
    "    return pokemon\n",
    "\n",
    "# Tests the function\n",
    "print(scrape_single_pokemon('Palkia', form='Origin Forme'))"
   ]
  },
  {
   "cell_type": "markdown",
   "metadata": {},
   "source": [
    "## Scrape 'em all"
   ]
  },
  {
   "cell_type": "code",
   "execution_count": 1,
   "metadata": {},
   "outputs": [
    {
     "ename": "NameError",
     "evalue": "name 'GENERATION_FIRST' is not defined",
     "output_type": "error",
     "traceback": [
      "\u001b[1;31m---------------------------------------------------------------------------\u001b[0m",
      "\u001b[1;31mNameError\u001b[0m                                 Traceback (most recent call last)",
      "Cell \u001b[1;32mIn[1], line 4\u001b[0m\n\u001b[0;32m      1\u001b[0m pokemons \u001b[38;5;241m=\u001b[39m []\n\u001b[0;32m      3\u001b[0m \u001b[38;5;66;03m# We loop over the different pages so we can infer the generation of a pokemon\u001b[39;00m\n\u001b[1;32m----> 4\u001b[0m \u001b[38;5;28;01mfor\u001b[39;00m gen \u001b[38;5;129;01min\u001b[39;00m \u001b[38;5;28mrange\u001b[39m(\u001b[43mGENERATION_FIRST\u001b[49m, GENERATION_LAST\u001b[38;5;241m+\u001b[39m\u001b[38;5;241m1\u001b[39m):\n\u001b[0;32m      6\u001b[0m     url \u001b[38;5;241m=\u001b[39m \u001b[38;5;124mf\u001b[39m\u001b[38;5;124m'\u001b[39m\u001b[38;5;124mhttps://pokemondb.net/pokedex/stats/gen\u001b[39m\u001b[38;5;132;01m{\u001b[39;00mgen\u001b[38;5;132;01m}\u001b[39;00m\u001b[38;5;124m'\u001b[39m\n\u001b[0;32m      7\u001b[0m     pokemon_list_soup \u001b[38;5;241m=\u001b[39m url_to_soup(url)\n",
      "\u001b[1;31mNameError\u001b[0m: name 'GENERATION_FIRST' is not defined"
     ]
    }
   ],
   "source": [
    "pokemons = []\n",
    "\n",
    "# We loop over the different pages so we can infer the generation of a pokemon\n",
    "for gen in range(GENERATION_FIRST, GENERATION_LAST+1):\n",
    "    \n",
    "    url = f'https://pokemondb.net/pokedex/stats/gen{gen}'\n",
    "    pokemon_list_soup = url_to_soup(url)\n",
    "    rows = pokemon_list_soup.find_all('tr')[1:] # Ignore first row because it contains the headers, not data\n",
    "\n",
    "    for row in rows:\n",
    "        \n",
    "        cols = row.find_all('td')\n",
    "                \n",
    "        image       = cols[0].img.get('src')\n",
    "        number      = int(cols[0].text.strip())\n",
    "        name        = cols[1].a.text.strip()\n",
    "        form        = cols[1].find('small').text.strip() if len(cols[1]) >= 3 else np.nan\n",
    "        types       = cols[2].find_all('a', class_='type-icon')\n",
    "        type1           = types[0].text.lower()\n",
    "        type2           = types[1].text.lower() if len(types) > 1 else np.nan\n",
    "        stats       = cols[3].text.strip()\n",
    "        hp          = cols[4].text.strip()\n",
    "        attack      = cols[5].text.strip()\n",
    "        defense     = cols[6].text.strip()\n",
    "        sp_attack   = cols[7].text.strip()\n",
    "        sp_defense  = cols[8].text.strip()\n",
    "        speed       = cols[9].text.strip()\n",
    "        \n",
    "        pokemon = {\n",
    "            'id': number,\n",
    "            'name': name,\n",
    "            'form': form,\n",
    "            'gen': gen,\n",
    "            'type1': type1,\n",
    "            'type2': type2,\n",
    "            'stats': stats,\n",
    "            'hp': hp,\n",
    "            'attack': attack,\n",
    "            'defense': defense,\n",
    "            'sp_attack': sp_attack,\n",
    "            'sp_defense': sp_defense,\n",
    "            'speed': speed,\n",
    "        }\n",
    "        \n",
    "        if SCRIPE_POKEMON_PAGE:\n",
    "            pokemon |= scrape_single_pokemon(name=name, id=number)\n",
    "        \n",
    "        pokemons.append(pokemon)\n",
    "        \n",
    "        if VERBOSE:\n",
    "            print(f'{number} {name}')\n",
    "\n",
    "df = pd.DataFrame(pokemons)"
   ]
  },
  {
   "cell_type": "markdown",
   "metadata": {},
   "source": [
    "## Legendaries"
   ]
  },
  {
   "cell_type": "code",
   "execution_count": 8,
   "metadata": {},
   "outputs": [],
   "source": [
    "if not SCRIPE_LEGENDARY_PAGE:\n",
    "    raise RuntimeError('SCRIPE_LEGENDARY_PAGE not enabled in settings')\n",
    "\n",
    "pokemon_tables = url_to_soup('https://www.serebii.net/pokemon/legendary.shtml')\n",
    "\n",
    "categories = ['is_sublegendary', 'is_legendary', 'is_mythical']\n",
    "for i, category in enumerate(pokemon_tables.find_all('table', class_='trainer')):\n",
    "    df[categories[i]] = 0\n",
    "    for pokemon in category.find_all('table'):\n",
    "        name = pokemon.select_one('tr:nth-of-type(2)').text.strip()\n",
    "        df.loc[ (df['name'] == name), categories[i]] = 1"
   ]
  },
  {
   "cell_type": "code",
   "execution_count": 9,
   "metadata": {},
   "outputs": [],
   "source": [
    "if COMBINE_ALL_LEGENDARIES:\n",
    "    mask = (df['is_sublegendary'] == 1) | (df['is_mythical'] == 1)\n",
    "    df.loc[mask, 'is_legendary'] = 1\n",
    "    df = df.drop(columns=['is_sublegendary','is_mythical'])"
   ]
  },
  {
   "cell_type": "markdown",
   "metadata": {},
   "source": [
    "## Evolutions\n",
    "\n",
    "Evolutions are a bit finnicky.\n",
    "_Nincada_ in particular is treated manually because it is the only pokemon that can evolve and result in two pokemons (as of gen 9)."
   ]
  },
  {
   "cell_type": "code",
   "execution_count": 10,
   "metadata": {},
   "outputs": [],
   "source": [
    "if not SCRIPE_EVOLUTIONS:\n",
    "    raise RuntimeError('SCRIPE_EVOLUTIONS not enabled in settings')\n",
    "\n",
    "# Nincada is a very special case because it can give you two pokemons\n",
    "# It is the only pokemon having this behaviour (as of gen 9)\n",
    "# We treat it manually rather than increase the complexity for a single case\n",
    "def nincada():\n",
    "    for name in ['Nincada', 'Ninjask','Shedinja']:\n",
    "        mask = df['name'] == name\n",
    "        df.loc[mask, 'evo_1'] = 'Nincada'\n",
    "        if name != 'Shedinja':\n",
    "            df.loc[mask, 'evo_2'] = 'Ninjask'\n",
    "        else:\n",
    "            df.loc[mask, 'evo_2'] = 'Shedinja'\n",
    "\n",
    "def get_evo_line(soup, evos = [], forms = [], details = []):\n",
    "    \n",
    "    # Avoids directly modifying the global variables\n",
    "    evos = copy(evos)\n",
    "    forms = copy(forms)\n",
    "    details = copy(details)\n",
    "    \n",
    "    for child in soup.findChildren(recursive=False):\n",
    "        \n",
    "        css_classes = child.get('class')\n",
    "        \n",
    "        # If the lines split, we will call the function again with the information already scraped\n",
    "        # Returns because that evolution line will be treated in the recursion\n",
    "        if 'infocard-evo-split' in css_classes:\n",
    "            branches = child.find_all('div', class_='infocard-list-evo')\n",
    "            for branch in branches:\n",
    "                get_evo_line(branch, evos, forms, details)\n",
    "            return\n",
    "        \n",
    "        # Stores the evolution conditions\n",
    "        if 'infocard-arrow' in css_classes:\n",
    "            details.append(child.text[1:-1])\n",
    "            \n",
    "        else:\n",
    "            name = child.find('span', class_='infocard-lg-data').a.text\n",
    "            \n",
    "            # Special case, see function above\n",
    "            if name == 'Nincada':\n",
    "                nincada()\n",
    "                return\n",
    "            \n",
    "            evos.append(name)\n",
    "            \n",
    "            # Line can get 3 <small>: id, (form,), types\n",
    "            # Form is optional and won't be displayed if it isn't relevant\n",
    "            # We thus need to count the number of <small> elements to see if it's relevant to look for the form\n",
    "            html_small = child.find('span', class_='infocard-lg-data').find_all('small')\n",
    "            if len(html_small) == 3:\n",
    "                forms.append(html_small[1].text)\n",
    "            else:\n",
    "                forms.append(None)\n",
    "                \n",
    "    for name, form in zip(evos, forms):\n",
    "        mask = (df['name'] == name)\n",
    "        if form is None:\n",
    "            mask &= (df['form'].isna())\n",
    "        else:\n",
    "            mask &= (df['form'] == form)\n",
    "         \n",
    "        df.loc[mask, 'evo_1']           = evos[0]\n",
    "        df.loc[mask, 'evo_1_details']   = details[0]\n",
    "        df.loc[mask, 'evo_2']           = evos[1]\n",
    "        if len(evos) == 3:\n",
    "            df.loc[mask, 'evo_3']       = evos[2]\n",
    "            df.loc[mask, 'evo_2_details'] = details[1]\n",
    "\n",
    "\n",
    "\n",
    "evolution_tables = url_to_soup('https://pokemondb.net/evolution')\n",
    "\n",
    "# Sets all the evolution data in pokemons_df\n",
    "evo_rows = evolution_tables.find_all('div', class_='infocard-filter-block')\n",
    "for row in evo_rows:\n",
    "    evo_lines = row.find_all('div', class_='infocard-list-evo', recursive=False)\n",
    "    \n",
    "    for evo_line in evo_lines:\n",
    "        get_evo_line(evo_line)\n",
    "        \n",
    "        \n",
    "# Single stage pokemons (not listed on the evolution page)\n",
    "mask = df['evo_1'].isna()\n",
    "df.loc[mask, 'evo_1'] = df['name']\n",
    "\n",
    "# Sets the stage for each pokemon (1, 2 or 3)\n",
    "for i in [1, 2, 3]:\n",
    "    mask = df['name'] == df[f'evo_{i}']\n",
    "    df.loc[mask, 'evo_stage'] = int(i)\n",
    "    \n",
    "# Determines if the pokemon is the final stage of its evolution line    \n",
    "df['evo_is_final'] = 0\n",
    "mask = df['evo_stage'] == 3\n",
    "df.loc[mask, 'evo_is_final'] = 1\n",
    "mask = (df['evo_stage'] == 2) & (df['evo_3'].isna())\n",
    "df.loc[mask, 'evo_is_final'] = 1\n",
    "mask = (df['evo_stage'] == 1) & (df['evo_2'].isna())\n",
    "df.loc[mask, 'evo_is_final'] = 1\n",
    "        "
   ]
  },
  {
   "cell_type": "markdown",
   "metadata": {},
   "source": [
    "# Drop duplicates\n",
    "\n",
    "We keep all the pokemons that have types or stats variations, but we drop the different forms that have the exact same numbers (example: Dudunsparce)"
   ]
  },
  {
   "cell_type": "code",
   "execution_count": 11,
   "metadata": {},
   "outputs": [],
   "source": [
    "df = df.drop_duplicates(subset=[\n",
    "    'name',\n",
    "    'type1',\n",
    "    'type2',\n",
    "    'hp',\n",
    "    'attack',\n",
    "    'defense',\n",
    "    'sp_attack',\n",
    "    'sp_defense',\n",
    "    'speed'\n",
    "]).reset_index(drop=True)"
   ]
  },
  {
   "cell_type": "markdown",
   "metadata": {},
   "source": [
    "# Results"
   ]
  },
  {
   "cell_type": "code",
   "execution_count": null,
   "metadata": {},
   "outputs": [],
   "source": [
    "df"
   ]
  },
  {
   "cell_type": "code",
   "execution_count": 13,
   "metadata": {},
   "outputs": [],
   "source": [
    "df.to_csv(CSV_FILE_OUTPUT)"
   ]
  }
 ],
 "metadata": {
  "kernelspec": {
   "display_name": "myenv",
   "language": "python",
   "name": "python3"
  },
  "language_info": {
   "codemirror_mode": {
    "name": "ipython",
    "version": 3
   },
   "file_extension": ".py",
   "mimetype": "text/x-python",
   "name": "python",
   "nbconvert_exporter": "python",
   "pygments_lexer": "ipython3",
   "version": "3.12.4"
  }
 },
 "nbformat": 4,
 "nbformat_minor": 2
}
